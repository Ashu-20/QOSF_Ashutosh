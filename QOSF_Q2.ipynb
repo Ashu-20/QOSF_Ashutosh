{
 "cells": [
  {
   "cell_type": "markdown",
   "id": "81a417a8-6848-4bd4-af25-c4dd906aff95",
   "metadata": {},
   "source": [
    "# Problem Statement"
   ]
  },
  {
   "cell_type": "markdown",
   "id": "2697267c-f6f3-47df-854c-973ca03cc517",
   "metadata": {},
   "source": [
    "Given a list of integer numbers, look for a negative number in the list. Consider an appropriate number of qubits and explain why your proposal is valid for all kinds of number in case"
   ]
  },
  {
   "cell_type": "markdown",
   "id": "f1145816-ecfe-4c9f-833d-e7597a518108",
   "metadata": {},
   "source": [
    "# Solution strategy"
   ]
  },
  {
   "cell_type": "markdown",
   "id": "57814ccc-42d3-4a19-9acf-d46cd9bcc81f",
   "metadata": {},
   "source": [
    "Encode the list in the qubits. Total number of qubits are equal to the number of elements in the list. Encoder is an oracle or a black box. Encoder will flip the state of qubit to |1> if the number is positive and leave it in |0> state if the number is negative, corresponding to the index of element in the list. Then we use multi control toffoli to flip the auxilary qubit to |1> if all the input elements are positive. If the output state is |0>, it implies that the input has one or more negative element"
   ]
  },
  {
   "cell_type": "code",
   "execution_count": 1,
   "id": "ed35a979-0611-4e4e-8f07-82a0ae2acc69",
   "metadata": {},
   "outputs": [
    {
     "name": "stdout",
     "output_type": "stream",
     "text": [
      "Import Done\n"
     ]
    }
   ],
   "source": [
    "# Required modules\n",
    "import numpy as np\n",
    "\n",
    "from qiskit import IBMQ,Aer,transpile, execute\n",
    "from qiskit import *\n",
    "from qiskit.providers.ibmq import least_busy\n",
    "from qiskit.visualization import plot_histogram\n",
    "\n",
    "print('Import Done')\n"
   ]
  },
  {
   "cell_type": "code",
   "execution_count": 2,
   "id": "9f099ae1-1d8e-4e1e-91dd-5940efd5962d",
   "metadata": {},
   "outputs": [],
   "source": [
    "integer = [2,3,-8,10]"
   ]
  },
  {
   "cell_type": "code",
   "execution_count": 3,
   "id": "08e64bcf-a53f-4993-9516-217b116996cf",
   "metadata": {},
   "outputs": [],
   "source": [
    "backend = Aer.get_backend('qasm_simulator') # Using qasm simulator, other backends could be used as well"
   ]
  },
  {
   "cell_type": "code",
   "execution_count": 4,
   "id": "02b9ae5a-1f30-4be6-a47b-fc274c5c81ee",
   "metadata": {},
   "outputs": [],
   "source": [
    "def oracle(list):\n",
    "    '''Function takes a list and flip the qubits based on the\n",
    "    sign of corresponding element in the list\n",
    "    Return:\n",
    "        return qiskit circuit\n",
    "    '''\n",
    "    qc = QuantumCircuit(len(list), name= 'Oracle')\n",
    "    for i, int in enumerate(list):\n",
    "        if int>=0:\n",
    "            qc.x(i)\n",
    "    return qc"
   ]
  },
  {
   "cell_type": "code",
   "execution_count": 5,
   "id": "09d1eefa-1bd7-45f7-a2c4-6bca7b844ab1",
   "metadata": {},
   "outputs": [],
   "source": [
    "def find_negative_numbers(x):\n",
    "    \"\"\"x: list to be searched\"\"\"\n",
    "    if type(x) == list:          \n",
    "        fn = QuantumCircuit(len(x)+1,1) # Quantum register= len(list) +1, classical register=1\n",
    "        # Adding oracle circuit\n",
    "        fn.compose(oracle(x),list(range(len(x))),inplace= True)\n",
    "        # Multi control toffoli flips the state of measurement qubit based on encoded qubits\n",
    "        fn.mct(list(range(len(x))),fn.qregs[0][-1])        \n",
    "        # Measuruing the measurement qubit\n",
    "        fn.measure(fn.qregs[0][-1],0)\n",
    "        counts = backend.run(transpile(fn,backend)).result().get_counts(fn)\n",
    "        # max_key = 0 means True or else False\n",
    "        max_key = max(counts, key=lambda key: counts[key])\n",
    "        return bool(max_key=='0')\n",
    "    else:\n",
    "        raise TypeError(\"Input must be a list\")\n",
    "       \n",
    "     "
   ]
  },
  {
   "cell_type": "code",
   "execution_count": 6,
   "id": "96caf86e-a1c5-43e0-bd89-31cf43cbfa85",
   "metadata": {},
   "outputs": [],
   "source": [
    "A = find_negative_numbers(integer)"
   ]
  },
  {
   "cell_type": "code",
   "execution_count": 7,
   "id": "d38693e6-4c1f-4bfa-9437-e5b36c9b6352",
   "metadata": {},
   "outputs": [
    {
     "name": "stdout",
     "output_type": "stream",
     "text": [
      "True\n"
     ]
    }
   ],
   "source": [
    "print(A)"
   ]
  },
  {
   "cell_type": "code",
   "execution_count": null,
   "id": "0f4e4f50-e4b4-44d1-9157-8cc5caa84c53",
   "metadata": {},
   "outputs": [],
   "source": []
  },
  {
   "cell_type": "code",
   "execution_count": null,
   "id": "83c18081-e3d0-467a-bb58-8c6a74434757",
   "metadata": {},
   "outputs": [],
   "source": []
  },
  {
   "cell_type": "code",
   "execution_count": null,
   "id": "f4e854ff-2f6b-4a48-b8cc-4485c73f3f3a",
   "metadata": {},
   "outputs": [],
   "source": []
  }
 ],
 "metadata": {
  "kernelspec": {
   "display_name": "Python 3 (ipykernel)",
   "language": "python",
   "name": "python3"
  },
  "language_info": {
   "codemirror_mode": {
    "name": "ipython",
    "version": 3
   },
   "file_extension": ".py",
   "mimetype": "text/x-python",
   "name": "python",
   "nbconvert_exporter": "python",
   "pygments_lexer": "ipython3",
   "version": "3.9.13"
  }
 },
 "nbformat": 4,
 "nbformat_minor": 5
}
